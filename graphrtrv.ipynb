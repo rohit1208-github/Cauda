{
 "cells": [
  {
   "cell_type": "code",
   "execution_count": 5,
   "metadata": {},
   "outputs": [],
   "source": [
    "import os\n",
    "import re\n",
    "from langchain.vectorstores.neo4j_vector import Neo4jVector\n",
    "from langchain.document_loaders import PyPDFLoader\n",
    "from langchain.text_splitter import CharacterTextSplitter, RecursiveCharacterTextSplitter\n",
    "from langchain_community.embeddings import GPT4AllEmbeddings"
   ]
  },
  {
   "cell_type": "code",
   "execution_count": 40,
   "metadata": {},
   "outputs": [],
   "source": [
    "os.environ[\"NEO4J_URI\"] = 'bolt://localhost:7687'\n",
    "os.environ[\"NEO4J_USERNAME\"] = 'neo4j'\n",
    "os.environ[\"NEO4J_PASSWORD\"] = 'august12'"
   ]
  },
  {
   "cell_type": "code",
   "execution_count": 14,
   "metadata": {},
   "outputs": [],
   "source": [
    "pdf_path = r'C:\\Users\\prohi\\Desktop\\edplus\\Documents\\ASU_MS_MoT.pdf'\n",
    "\n",
    "loader = PyPDFLoader(pdf_path)\n",
    "docs = loader.load()\n",
    "\n",
    "text_splitter = RecursiveCharacterTextSplitter.from_tiktoken_encoder(\n",
    "    chunk_size=250,\n",
    "    chunk_overlap=0\n",
    ")\n",
    "\n",
    "documents = text_splitter.split_documents(docs)"
   ]
  },
  {
   "cell_type": "code",
   "execution_count": 15,
   "metadata": {},
   "outputs": [
    {
     "name": "stdout",
     "output_type": "stream",
     "text": [
      "54\n"
     ]
    }
   ],
   "source": [
    "print(len(documents))"
   ]
  },
  {
   "cell_type": "code",
   "execution_count": 41,
   "metadata": {},
   "outputs": [
    {
     "ename": "NameError",
     "evalue": "name 'documents' is not defined",
     "output_type": "error",
     "traceback": [
      "\u001b[1;31m---------------------------------------------------------------------------\u001b[0m",
      "\u001b[1;31mNameError\u001b[0m                                 Traceback (most recent call last)",
      "Cell \u001b[1;32mIn[41], line 2\u001b[0m\n\u001b[0;32m      1\u001b[0m neo4j_vector \u001b[38;5;241m=\u001b[39m Neo4jVector\u001b[38;5;241m.\u001b[39mfrom_documents(\n\u001b[1;32m----> 2\u001b[0m     \u001b[43mdocuments\u001b[49m,\n\u001b[0;32m      3\u001b[0m     GPT4AllEmbeddings(),\n\u001b[0;32m      4\u001b[0m     url\u001b[38;5;241m=\u001b[39mos\u001b[38;5;241m.\u001b[39menviron[\u001b[38;5;124m\"\u001b[39m\u001b[38;5;124mNEO4J_URI\u001b[39m\u001b[38;5;124m\"\u001b[39m],\n\u001b[0;32m      5\u001b[0m     username\u001b[38;5;241m=\u001b[39mos\u001b[38;5;241m.\u001b[39menviron[\u001b[38;5;124m\"\u001b[39m\u001b[38;5;124mNEO4J_USERNAME\u001b[39m\u001b[38;5;124m\"\u001b[39m],\n\u001b[0;32m      6\u001b[0m     password\u001b[38;5;241m=\u001b[39mos\u001b[38;5;241m.\u001b[39menviron[\u001b[38;5;124m\"\u001b[39m\u001b[38;5;124mNEO4J_PASSWORD\u001b[39m\u001b[38;5;124m\"\u001b[39m]\n\u001b[0;32m      7\u001b[0m )\n",
      "\u001b[1;31mNameError\u001b[0m: name 'documents' is not defined"
     ]
    }
   ],
   "source": [
    "neo4j_vector = Neo4jVector.from_documents(\n",
    "    documents,\n",
    "    GPT4AllEmbeddings(),\n",
    "    url=os.environ[\"NEO4J_URI\"],\n",
    "    username=os.environ[\"NEO4J_USERNAME\"],\n",
    "    password=os.environ[\"NEO4J_PASSWORD\"]\n",
    ")"
   ]
  },
  {
   "cell_type": "code",
   "execution_count": 37,
   "metadata": {},
   "outputs": [
    {
     "name": "stdout",
     "output_type": "stream",
     "text": [
      "MSTech Technology (Management of Technology) \n",
      " \n",
      " \n",
      "Program Overview \n",
      "The MSTech in Management of Technology prepares students to lead innovative change in the \n",
      "workplace. This degree prepares students with state-of-the-art hard and soft skill sets that apply \n",
      "technology to solve complex and competitive problems in cutting edge industries.  \n",
      " \n",
      "With a focus on transformative technology, students address technological innovations through strategies \n",
      "that shorten product life cycles, operational research and improvement using data driven decisions, \n",
      "manage new product development, and deploy new technologies to maintain a competitive advantage. \n",
      " \n",
      "Combine this with a faculty that has both academic and professional technical expertise and \n",
      "emplacement in the Ira A. Fulton Schools of Engineering to make collaboration seamless and timely. The \n",
      "Management of Technology degree core offers in-depth future focused knowledge and management \n",
      "skills with focus on applied and transformative technology. The remaining portion of the Management of \n",
      "Technology degree is student focused, tailoring the program of study around students' professional \n",
      "aspirations and/or technology space. Students receive advising and coaching from experienced faculty\n",
      "\n",
      "Environmental and Resource Management, MS \n",
      "Environmental and Resource Management (Water Management), MS \n",
      "Graphic Information Technology, MS  \n",
      "Human Systems Engineering, MS \n",
      "Human Systems Engineering (Aviation Human Factors), MS \n",
      "Human Systems Engineering (Health Systems), MS \n",
      "Human Systems Engineering (Intelligent Systems), MS \n",
      "Human Systems Engineering (User Experience Research), MS  \n",
      "Information Technology, MS   \n",
      "Management of Technology, MSTech in Technology   \n",
      "User Experience, MS \n",
      " \n",
      "Doctoral Degrees \n",
      "Engineering Education Systems and Design, Ph.D. \n",
      "Human Systems Engineering, Ph.D. \n",
      " \n",
      "Programs No Longer Admitting Students \n",
      "Environmental Technology Management, MSTech in Technology \n",
      "Graphic Information Technology, MSTech in Technology \n",
      "Purpose of this Handbook \n",
      "The purpose of this handbook is to provide guidance and information related to admission, degree \n",
      "requirements, and general policies and procedures for graduate students in the Polytechnic School. \n",
      "Students must adhere to policies of both the Polytechnic School and the Graduate College. Policies and\n",
      "\n",
      "The Polytechnic School's graduate students learn in an environment that blends management, applied \n",
      "sciences, and engineering and technology fields to create applications, systems, and solutions that meet \n",
      "real-world needs. We engage in research that matters. As part of the Polytechnic School masters \n",
      "programs, applied projects, theses, and research are degree components and complement students' \n",
      "theoretical and practical understanding. The Polytechnic School doctoral programs include separate \n",
      "degree components, all of which are outlined in each program's handbook. \n",
      " \n",
      "Masters Degrees \n",
      "Aviation Management and Human Factors, MSTech in Technology   \n",
      "Engineering, MS\n"
     ]
    }
   ],
   "source": [
    "query = \"What is Management of Technology?\"\n",
    "\n",
    "vector_results = neo4j_vector.similarity_search(query, k=3)\n",
    "\n",
    "for i, res in enumerate(vector_results):\n",
    "    print(res.page_content)\n",
    "    if i != len(vector_results) - 1:\n",
    "        print()"
   ]
  },
  {
   "cell_type": "code",
   "execution_count": 36,
   "metadata": {},
   "outputs": [],
   "source": [
    "local_llm = 'llama3'\n",
    "\n",
    "from langchain.text_splitter import RecursiveCharacterTextSplitter\n",
    "from langchain.document_loaders import PyPDFLoader\n",
    "from langchain_community.vectorstores import Chroma\n",
    "from langchain_community.embeddings import GPT4AllEmbeddings\n",
    "from langchain.retrievers import BM25Retriever,EnsembleRetriever\n",
    "from langchain_community.document_transformers import (\n",
    "    LongContextReorder,\n",
    ")\n",
    "from llama_index.embeddings.together import TogetherEmbedding\n",
    "from llama_index.core.retrievers import QueryFusionRetriever"
   ]
  },
  {
   "cell_type": "code",
   "execution_count": 37,
   "metadata": {},
   "outputs": [],
   "source": [
    "pdf_path = r'C:\\Users\\prohi\\Desktop\\edplus\\Documents\\ASU_MS_MoT.pdf'\n",
    "\n",
    "loader = PyPDFLoader(pdf_path)\n",
    "docs = loader.load()\n",
    "\n",
    "text_splitter = RecursiveCharacterTextSplitter.from_tiktoken_encoder(\n",
    "    chunk_size=250,\n",
    "    chunk_overlap=0\n",
    ")\n",
    "\n",
    "doc_splitsz = text_splitter.split_documents(docs)\n",
    "\n",
    "reordering = LongContextReorder()\n",
    "doc_splits = reordering.transform_documents(doc_splitsz)\n",
    "\n",
    "vectorstore = Chroma.from_documents(\n",
    "    documents=doc_splits,\n",
    "    collection_name=\"rag-chroma\",\n",
    "    embedding=GPT4AllEmbeddings(),\n",
    ")\n",
    "\n",
    "bm25_retriever = BM25Retriever.from_documents(doc_splits)\n",
    "bm25_retriever.k=5"
   ]
  },
  {
   "cell_type": "code",
   "execution_count": 38,
   "metadata": {},
   "outputs": [],
   "source": [
    "retrieverv = vectorstore.as_retriever()"
   ]
  },
  {
   "cell_type": "code",
   "execution_count": 44,
   "metadata": {},
   "outputs": [],
   "source": [
    "graphstore = Neo4jVector.from_documents(\n",
    "    doc_splits,\n",
    "    GPT4AllEmbeddings(),\n",
    "    url=os.environ[\"NEO4J_URI\"],\n",
    "    username=os.environ[\"NEO4J_USERNAME\"],\n",
    "    password=os.environ[\"NEO4J_PASSWORD\"]\n",
    ")"
   ]
  },
  {
   "cell_type": "code",
   "execution_count": 43,
   "metadata": {},
   "outputs": [
    {
     "ename": "TypeError",
     "evalue": "Neo4jVector.similarity_search() missing 1 required positional argument: 'query'",
     "output_type": "error",
     "traceback": [
      "\u001b[1;31m---------------------------------------------------------------------------\u001b[0m",
      "\u001b[1;31mTypeError\u001b[0m                                 Traceback (most recent call last)",
      "Cell \u001b[1;32mIn[43], line 1\u001b[0m\n\u001b[1;32m----> 1\u001b[0m retrieverg \u001b[38;5;241m=\u001b[39m \u001b[43mneo4j_vector\u001b[49m\u001b[38;5;241;43m.\u001b[39;49m\u001b[43msimilarity_search\u001b[49m\u001b[43m(\u001b[49m\u001b[43m)\u001b[49m\n",
      "\u001b[1;31mTypeError\u001b[0m: Neo4jVector.similarity_search() missing 1 required positional argument: 'query'"
     ]
    }
   ],
   "source": [
    "retrieverg = store.as_retriever()"
   ]
  },
  {
   "cell_type": "code",
   "execution_count": null,
   "metadata": {},
   "outputs": [],
   "source": []
  }
 ],
 "metadata": {
  "kernelspec": {
   "display_name": "Python 3",
   "language": "python",
   "name": "python3"
  },
  "language_info": {
   "codemirror_mode": {
    "name": "ipython",
    "version": 3
   },
   "file_extension": ".py",
   "mimetype": "text/x-python",
   "name": "python",
   "nbconvert_exporter": "python",
   "pygments_lexer": "ipython3",
   "version": "3.11.9"
  }
 },
 "nbformat": 4,
 "nbformat_minor": 2
}

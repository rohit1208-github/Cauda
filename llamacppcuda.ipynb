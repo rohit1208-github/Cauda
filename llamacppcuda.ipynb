{
  "cells": [
    {
      "cell_type": "code",
      "execution_count": null,
      "metadata": {
        "colab": {
          "base_uri": "https://localhost:8080/"
        },
        "id": "l1ADIC8crvf5",
        "outputId": "150346b7-4583-41b6-d633-a62c7f8390df"
      },
      "outputs": [],
      "source": [
        "!npm install localtunnel"
      ]
    },
    {
      "cell_type": "code",
      "execution_count": null,
      "metadata": {
        "id": "wf0u_4OpsfUS"
      },
      "outputs": [],
      "source": [
        "!streamlit run appcuda.py &>/content/logs.txt &"
      ]
    },
    {
      "cell_type": "code",
      "execution_count": null,
      "metadata": {
        "colab": {
          "base_uri": "https://localhost:8080/"
        },
        "id": "xHOPR-L4sjxd",
        "outputId": "c7dd6993-5017-4698-f9ed-9d3f5057bf1b"
      },
      "outputs": [],
      "source": [
        "import urllib\n",
        "print(\"Password/Enpoint IP for localtunnel is:\",urllib.request.urlopen('https://ipv4.icanhazip.com').read().decode('utf8').strip(\"\\n\"))"
      ]
    },
    {
      "cell_type": "code",
      "execution_count": null,
      "metadata": {
        "colab": {
          "base_uri": "https://localhost:8080/"
        },
        "id": "Mau0izbFsnk5",
        "outputId": "dfd9fd71-b444-4d3a-d8f3-1a0e47fae33a"
      },
      "outputs": [],
      "source": [
        "!npx localtunnel --port 8501"
      ]
    },
    {
      "cell_type": "code",
      "execution_count": null,
      "metadata": {
        "colab": {
          "base_uri": "https://localhost:8080/"
        },
        "id": "_UeUNq7sLtay",
        "outputId": "1d5a9192-46d4-4db4-9015-d3fd9834e071"
      },
      "outputs": [],
      "source": [
        "!pip install langchain_community"
      ]
    },
    {
      "cell_type": "code",
      "execution_count": null,
      "metadata": {
        "colab": {
          "base_uri": "https://localhost:8080/"
        },
        "id": "NfSviJxVUDZq",
        "outputId": "dc336bac-b875-481b-98f1-25178e4555c9"
      },
      "outputs": [],
      "source": [
        "!pip install PyPDF2"
      ]
    },
    {
      "cell_type": "code",
      "execution_count": null,
      "metadata": {
        "colab": {
          "base_uri": "https://localhost:8080/"
        },
        "id": "y3aI87LYUanA",
        "outputId": "36ec4a8a-9a80-4514-f565-64ee851a3769"
      },
      "outputs": [],
      "source": [
        "!pip install sentence_transformers tiktoken ipywidgets"
      ]
    },
    {
      "cell_type": "code",
      "execution_count": null,
      "metadata": {
        "colab": {
          "base_uri": "https://localhost:8080/"
        },
        "id": "baZvwzx339nn",
        "outputId": "cb188031-3c9d-4085-8e25-c5f29d344539"
      },
      "outputs": [],
      "source": [
        "from langchain_community.llms import LlamaCpp\n",
        "llm = LlamaCpp(model_path=\"/content/drive/MyDrive/llama-2-7b.Q4_K_M.gguf\", n_gpu_layers=30, n_ctx=3584, n_batch=521, verbose=True)\n",
        "output = llm(\"Q: Name the planets in the solar system? A: \", max_tokens=32, stop=[\"Q:\", \"\\n\"], echo=True)\n",
        "print(output)"
      ]
    },
    {
      "cell_type": "code",
      "execution_count": null,
      "metadata": {
        "colab": {
          "base_uri": "https://localhost:8080/"
        },
        "id": "2gXssL-x1Mw4",
        "outputId": "0118123c-b634-439b-e63c-e9ca0652aea5"
      },
      "outputs": [],
      "source": [
        "!nvcc --version"
      ]
    },
    {
      "cell_type": "code",
      "execution_count": null,
      "metadata": {
        "colab": {
          "base_uri": "https://localhost:8080/"
        },
        "id": "wWsMEO4U2it0",
        "outputId": "82427eb3-93bd-40b1-fc79-c1207e56ddec"
      },
      "outputs": [],
      "source": [
        "!nvidia-smi"
      ]
    },
    {
      "cell_type": "code",
      "execution_count": null,
      "metadata": {
        "colab": {
          "base_uri": "https://localhost:8080/"
        },
        "id": "XoLDMAsMH1je",
        "outputId": "e8e5e757-160a-490a-d303-d64ce52c8f18"
      },
      "outputs": [],
      "source": [
        "%cd .."
      ]
    },
    {
      "cell_type": "code",
      "execution_count": null,
      "metadata": {
        "colab": {
          "base_uri": "https://localhost:8080/"
        },
        "id": "wnL6zrQAH65H",
        "outputId": "8d4a5f2c-6747-411c-fb84-579f79616fe2"
      },
      "outputs": [],
      "source": [
        "%cd content"
      ]
    },
    {
      "cell_type": "code",
      "execution_count": null,
      "metadata": {
        "colab": {
          "base_uri": "https://localhost:8080/"
        },
        "id": "fJfwwz1QIH3H",
        "outputId": "33555854-2794-4217-ab7c-2eb133a0273d"
      },
      "outputs": [],
      "source": [
        "!git clone https://github.com/ggerganov/llama.cpp"
      ]
    },
    {
      "cell_type": "code",
      "execution_count": null,
      "metadata": {
        "colab": {
          "base_uri": "https://localhost:8080/"
        },
        "id": "pYwle-NiILR_",
        "outputId": "db8745d6-306d-4057-bcd1-53afce79e45d"
      },
      "outputs": [],
      "source": [
        "%cd llama.cpp"
      ]
    },
    {
      "cell_type": "code",
      "execution_count": null,
      "metadata": {
        "colab": {
          "base_uri": "https://localhost:8080/"
        },
        "id": "RdTtFbuKEQXm",
        "outputId": "de4b1067-6859-443c-fb0d-be24acade831"
      },
      "outputs": [],
      "source": [
        "!make LLAMA_CUBLAS=1"
      ]
    },
    {
      "cell_type": "code",
      "execution_count": null,
      "metadata": {
        "colab": {
          "base_uri": "https://localhost:8080/"
        },
        "id": "EUqW_vbBMffd",
        "outputId": "06cc08e0-a0aa-4190-8f12-14921204f97e"
      },
      "outputs": [],
      "source": [
        "!CMAKE_ARGS=\"-DLLAMA_CUBLAS=on\" FORCE_CMAKE=1 pip install --upgrade --force-reinstall llama-cpp-python --no-cache-dir"
      ]
    },
    {
      "cell_type": "code",
      "execution_count": null,
      "metadata": {
        "colab": {
          "base_uri": "https://localhost:8080/"
        },
        "id": "20gMwuieJ3DS",
        "outputId": "ce20cc5b-e269-4ea2-a87c-4dcec98c28b5"
      },
      "outputs": [],
      "source": [
        "!./main -m /content/drive/MyDrive/llama-2-7b.Q4_K_M.gguf -n 300 -p 'what is life?' -ngl 32"
      ]
    },
    {
      "cell_type": "code",
      "execution_count": null,
      "metadata": {
        "colab": {
          "base_uri": "https://localhost:8080/"
        },
        "id": "IQixIYldJ6d3",
        "outputId": "16660a01-d332-440d-b10c-2aed889788ed"
      },
      "outputs": [],
      "source": [
        "from google.colab import drive\n",
        "drive.mount('/content/drive')"
      ]
    },
    {
      "cell_type": "code",
      "execution_count": null,
      "metadata": {
        "colab": {
          "base_uri": "https://localhost:8080/"
        },
        "id": "or2z4oq1vwbt",
        "outputId": "f0ce6de0-21f1-459a-d344-d730d80b637c"
      },
      "outputs": [],
      "source": [
        "!pip install -q -U torch datasets transformers tensorflow langchain playwright html2text sentence_transformers faiss-cpu\n",
        "!pip install -q accelerate==0.21.0 peft==0.4.0 bitsandbytes==0.40.2 trl==0.4.7"
      ]
    },
    {
      "cell_type": "code",
      "execution_count": null,
      "metadata": {
        "colab": {
          "base_uri": "https://localhost:8080/"
        },
        "id": "LRMo7K6SvxvJ",
        "outputId": "e1b9a9ed-7101-4bd6-d315-de2b4832bf38"
      },
      "outputs": [],
      "source": [
        "!playwright install\n",
        "!playwright install-deps"
      ]
    },
    {
      "cell_type": "code",
      "execution_count": null,
      "metadata": {
        "colab": {
          "base_uri": "https://localhost:8080/"
        },
        "id": "25777CE7FEX_",
        "outputId": "efc24bc8-47c1-4fc5-ff6e-d69461cbd656"
      },
      "outputs": [],
      "source": [
        "!wget https://developer.download.nvidia.com/compute/cuda/repos/ubuntu2204/x86_64/cuda-keyring_1.1-1_all.deb\n",
        "!sudo dpkg -i cuda-keyring_1.1-1_all.deb\n",
        "!apt-key add /var/cuda-repo-ubuntu1804-11-8-local/7fa2af80.pub\n",
        "!sudo apt update\n",
        "!sudo apt install cuda-11-8\n",
        "!export CUDA_PATH=/usr/local/cuda-11.8\n",
        "!nvcc --version"
      ]
    },
    {
      "cell_type": "code",
      "execution_count": null,
      "metadata": {
        "id": "d4OAg3mov1oK"
      },
      "outputs": [],
      "source": [
        "!export BNB_CUDA_VERSION=118\n",
        "!export LD_LIBRARY_PATH=$JD_LIBRARY_PATH:/usr/local/cuda-11.8"
      ]
    },
    {
      "cell_type": "code",
      "execution_count": null,
      "metadata": {
        "id": "ABxtPO4Lv4c_"
      },
      "outputs": [],
      "source": [
        "!pip install --quiet bitsandbytes\n",
        "!python -m bitsandbytes"
      ]
    },
    {
      "cell_type": "code",
      "execution_count": null,
      "metadata": {
        "colab": {
          "base_uri": "https://localhost:8080/",
          "height": 1000
        },
        "id": "trnOE3CVtphH",
        "outputId": "eaa8a890-f187-4b0f-c264-f8b437194e3c"
      },
      "outputs": [],
      "source": [
        "!pip install -r requirements.txt"
      ]
    },
    {
      "cell_type": "code",
      "execution_count": null,
      "metadata": {
        "colab": {
          "base_uri": "https://localhost:8080/"
        },
        "id": "m_0FfPl6tVNZ",
        "outputId": "6cc57ee9-1aca-4f49-c40e-e176d46b7191"
      },
      "outputs": [],
      "source": [
        "!pip install python-dotenv"
      ]
    },
    {
      "cell_type": "code",
      "execution_count": null,
      "metadata": {
        "colab": {
          "base_uri": "https://localhost:8080/",
          "height": 1000
        },
        "id": "PUWUmOPGsyzN",
        "outputId": "e2f31c22-b4de-4bcc-bd75-eb89320aff09"
      },
      "outputs": [],
      "source": [
        "!pip install streamlit==1.14.0"
      ]
    }
  ],
  "metadata": {
    "accelerator": "GPU",
    "colab": {
      "gpuType": "T4",
      "provenance": []
    },
    "kernelspec": {
      "display_name": "Python 3",
      "name": "python3"
    },
    "language_info": {
      "name": "python"
    }
  },
  "nbformat": 4,
  "nbformat_minor": 0
}
